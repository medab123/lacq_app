{
 "cells": [
  {
   "cell_type": "code",
   "execution_count": null,
   "id": "829f27c5",
   "metadata": {},
   "outputs": [],
   "source": [
    "import numpy as np\n",
    "import pandas as pd\n",
    "import tensorflow as tf\n",
    "from tensorflow import keras\n",
    "from tensorflow.keras import layers\n",
    "\n",
    "# Define the model architecture\n",
    "def build_model(input_shape):\n",
    "    model = keras.Sequential([\n",
    "        layers.Dense(64, activation='relu', input_shape=input_shape),\n",
    "        layers.Dense(32, activation='relu'),\n",
    "        layers.Dense(1, activation='sigmoid')\n",
    "    ])\n",
    "    model.compile(optimizer='adam', loss='binary_crossentropy')\n",
    "    return model\n",
    "\n",
    "# Load and preprocess the data\n",
    "data = pd.read_csv('soil_analysis.csv')\n",
    "X = data.drop(['COMMENTAIRES'], axis=1)\n",
    "y = data['COMMENTAIRES']\n",
    "X = np.array(X)\n",
    "y = np.array(y)\n",
    "\n",
    "# Train the model\n",
    "model = build_model(X.shape[1:])\n",
    "model.fit(X, y, epochs=50, validation_split=0.2)\n",
    "\n",
    "\n",
    "# Use the model to generate comments\n",
    "def generate_comments(data):\n",
    "    X = np.array(data)\n",
    "    comments = model.predict(X)\n",
    "    comments = ['Elevé' if c > 0.5 else 'Correct' for c in comments]\n",
    "    return comments\n"
   ]
  },
  {
   "cell_type": "code",
   "execution_count": null,
   "id": "ac40b6cd",
   "metadata": {},
   "outputs": [],
   "source": []
  },
  {
   "cell_type": "code",
   "execution_count": null,
   "id": "5120d162",
   "metadata": {},
   "outputs": [],
   "source": []
  }
 ],
 "metadata": {
  "kernelspec": {
   "display_name": "Python 3 (ipykernel)",
   "language": "python",
   "name": "python3"
  },
  "language_info": {
   "codemirror_mode": {
    "name": "ipython",
    "version": 3
   },
   "file_extension": ".py",
   "mimetype": "text/x-python",
   "name": "python",
   "nbconvert_exporter": "python",
   "pygments_lexer": "ipython3",
   "version": "3.11.2"
  }
 },
 "nbformat": 4,
 "nbformat_minor": 5
}
