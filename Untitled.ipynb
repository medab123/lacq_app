{
 "cells": [
  {
   "cell_type": "code",
   "execution_count": 6,
   "id": "9bed9b6a",
   "metadata": {},
   "outputs": [],
   "source": [
    "import pandas as pd\n",
    "\n",
    "\n",
    "df = pd.read_excel('cultur_resurce.xlsx', sheet_name='Feuil1',header=None)\n"
   ]
  },
  {
   "cell_type": "code",
   "execution_count": 13,
   "id": "8a0dc391",
   "metadata": {},
   "outputs": [],
   "source": [
    "list_of_lists = [[df[1+(j*2)][0], df[0][i], df[1+(j*2)][i],df[2+(j*2)][i]] # list compriontion \n",
    "                 for j in range(0, 41) for i in range(2, 16+7) if not pd.isna(df[1+(j*2)][i])]\n"
   ]
  },
  {
   "cell_type": "code",
   "execution_count": 14,
   "id": "619e270c",
   "metadata": {},
   "outputs": [],
   "source": [
    "f = open(\"dataculture.sql\", \"w\")\n",
    "f.write(f\"drop table cultur_data;\\ncreate table cultur_data(cultur_name varchar(50),parametre varchar(10),max float(10),min float(11));\\n\")\n",
    "\n",
    "for i in list_of_lists : \n",
    "    if pd.isna(i[0]):\n",
    "        i[0] = 0\n",
    "    if pd.isna(i[1]):\n",
    "        i[1] = 0\n",
    "    if pd.isna(i[2]):\n",
    "        i[2] = 0\n",
    "    if pd.isna(i[3]):\n",
    "        i[3] = 0\n",
    "    f.write(f\"insert into cultur_data values('{i[0]}','{i[1]}','{i[2]}','{i[3]}');\\n\")\n",
    "f.close()\n",
    "#print(f\"insert into cultur_data values('{i[0]}','{i[1]}','{i[2]}','{i[3]}');\")"
   ]
  },
  {
   "cell_type": "code",
   "execution_count": null,
   "id": "21f07fe5",
   "metadata": {},
   "outputs": [],
   "source": []
  }
 ],
 "metadata": {
  "kernelspec": {
   "display_name": "Python 3 (ipykernel)",
   "language": "python",
   "name": "python3"
  },
  "language_info": {
   "codemirror_mode": {
    "name": "ipython",
    "version": 3
   },
   "file_extension": ".py",
   "mimetype": "text/x-python",
   "name": "python",
   "nbconvert_exporter": "python",
   "pygments_lexer": "ipython3",
   "version": "3.9.0"
  }
 },
 "nbformat": 4,
 "nbformat_minor": 5
}
